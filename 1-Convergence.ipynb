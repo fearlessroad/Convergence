{
 "cells": [
  {
   "cell_type": "markdown",
   "metadata": {},
   "source": [
    "# Practice Module: Convergence & Analysis Tools"
   ]
  },
  {
   "cell_type": "markdown",
   "metadata": {},
   "source": [
    "<p>It's very difficult oftentimes to get reproducibility in molecular dynamics. So \"convergence\" is the idea that if you run a simulation for LONG enough, it will ultimately \"converge\" at one point. So how do you determine if your data has converged? Some ways:\n",
    "<p>1. Run all simulations in triplicate (which is just good experimental practice) because then you can report standard deviation of all measurements. <p>2. Run your simulation for a long, long time  <p> Unfortunately, monolayer systems are difficult, because they haven't been studied in the computational community for very long. You'll find some papers that ran theirs for 5ns and some than ran for 150 ns. So it's up to us to decide HOW LONG we should be running these things, and this module will help you do *ACTUAL* analysis for me on this question. <p>To do this, we'll look at some NAMD simulations that I've completed."
   ]
  },
  {
   "cell_type": "markdown",
   "metadata": {},
   "source": [
    "This practice will look like:\n",
    "    1. Using MDTraj / basic python functions\n",
    "    2. Reading and writing files \n",
    "    3. Plotting data with matplotlib"
   ]
  },
  {
   "cell_type": "code",
   "execution_count": null,
   "metadata": {
    "collapsed": true
   },
   "outputs": [],
   "source": [
    "## import needed methods\n",
    "import numpy as np #for math\n",
    "from decimal import *\n",
    "import mdtraj as md ## you'll need this\n",
    "import pytraj as pt ## also this\n",
    "import matplotlib.pyplot as plt ##very important for plotting\n",
    "from matplotlib import cm\n",
    "%matplotlib inline \n",
    "###always comment your code"
   ]
  },
  {
   "cell_type": "markdown",
   "metadata": {},
   "source": [
    "<p>The files you will need for this analysis are the three replicate files for surface area 20.5, labeled SA20.5, SA20.5-2, and SA20.5-3. They are in this file directory: "
   ]
  },
  {
   "cell_type": "markdown",
   "metadata": {
    "collapsed": true
   },
   "source": [
    "    filedir1 = '/gpfs/amarolab/abbyflabby/MIX/MIX1234_NaCl0.4/'"
   ]
  },
  {
   "cell_type": "markdown",
   "metadata": {},
   "source": [
    "<p>Copy and paste that line into a new cell (hit the + at the top) and then run the code (shift + Enter). This is setting your first variable which is your file directory. "
   ]
  },
  {
   "cell_type": "code",
   "execution_count": null,
   "metadata": {
    "collapsed": true
   },
   "outputs": [],
   "source": []
  },
  {
   "cell_type": "markdown",
   "metadata": {},
   "source": [
    "<p> NAMD uses a shit ton of files to run ANYTHING, but to load each simulation for analysis, you need two things: a topology file and a trajectory file.\n",
    "<p> NAMD topology file: \".psf\"\n",
    "<p> NAMD trajectory file: \".dcd\"\n",
    "<p> I'll load SA19 with mdtraj just to show you what I need you to do with EACH simulation. Notice that the file structures I use and the file names you will notice are always the same, for consistency."
   ]
  },
  {
   "cell_type": "code",
   "execution_count": null,
   "metadata": {
    "collapsed": true
   },
   "outputs": [],
   "source": [
    "sim1 = md.load(filedir1+\"SA19/charmm-gui/namd/step7.1_production.dcd\", top=filedir1+\"SA19/charmm-gui/step5_assembly.xplor_ext.psf\")\n",
    "print(sim1)\n",
    "#after printing you should see <mdtraj.Trajectory with 3698 frames, 40451 atoms, 7673 residues, and unitcells>\n",
    "#3698 frames == 3698*2 ps == 7396 ps => 7.396 ns "
   ]
  },
  {
   "cell_type": "markdown",
   "metadata": {},
   "source": [
    "If you print the trajectory, you'll see its specs. Go ahead and load your three replicates below, give them USEFUL and NOT BULKY names. For example: traj1, traj2, traj3"
   ]
  },
  {
   "cell_type": "code",
   "execution_count": null,
   "metadata": {
    "collapsed": true
   },
   "outputs": [],
   "source": []
  },
  {
   "cell_type": "markdown",
   "metadata": {},
   "source": [
    "We can talk about input files later, but according to the NAMD 7.1_production.inp input script, a dcd file (FRAME) was printed every 2ps (that's PICO-second). How many ns is this? how many nanoseconds long are your trajectories?"
   ]
  },
  {
   "cell_type": "markdown",
   "metadata": {},
   "source": [
    "## Using MDTraj"
   ]
  },
  {
   "cell_type": "markdown",
   "metadata": {},
   "source": [
    "<p>I haven't given you ANY information about these simulations--You should figure out what they're made of. mdtraj has some great online documentation: http://mdtraj.org/latest/examples/introduction.html<p>To get you started, I will first count how many water molecules there are, and see whether there are any ions in solution.<p><i>Number of waters"
   ]
  },
  {
   "cell_type": "code",
   "execution_count": null,
   "metadata": {
    "collapsed": true
   },
   "outputs": [],
   "source": [
    "### sim1 has already been loaded, so I want to specify water only\n",
    "#selection language for MDtraj\n",
    "water1 = sim1.top.select(\"water\")\n",
    "print(water1)\n",
    "#notice that water is an array... it should print like this:\n",
    "#[18772 18773 18774 ..., 40348 40349 40350]\n",
    "##These numbers are the INDICES of all ATOMS that make up water in the trajectory\n",
    "#when coding it's always useful to print stuff to see what it looks like and what form it's in\n",
    "\n",
    "##I want to know HOW MANY water molecules there are... so I want to print the LENGTH of this array. \n",
    "print(len(water1))\n",
    "#21579\n",
    "##recall that these are the indices of each ATOM.... to find number of molecules, we need to divide by three (3 atoms per molecule)\n",
    "water_residues1 = len(water1)/3\n",
    "print(water_residues1)\n",
    "#7193"
   ]
  },
  {
   "cell_type": "markdown",
   "metadata": {},
   "source": [
    "<i>Number of ions"
   ]
  },
  {
   "cell_type": "code",
   "execution_count": null,
   "metadata": {
    "collapsed": true
   },
   "outputs": [],
   "source": [
    "## several ways of doing this. If you know that the ions could only be Na+ Or Cl- it's relatively easy. \n",
    "##FYI for THESE simulations the only salts added are NaCl\n",
    "##select for sodium\n",
    "sod1 = sim1.top.select(\"resname SOD\")\n",
    "print(sod1)\n",
    "print(len(sod1))\n",
    "#now chloride\n",
    "cla1 = sim1.top.select(\"resname CLA\")\n",
    "print(cla1)\n",
    "print(len(cla1))"
   ]
  },
  {
   "cell_type": "markdown",
   "metadata": {},
   "source": [
    "<i> Making a new trajectory"
   ]
  },
  {
   "cell_type": "code",
   "execution_count": null,
   "metadata": {
    "collapsed": true
   },
   "outputs": [],
   "source": [
    "##I want to make a new trajectory with JUST items that I've selected\n",
    "##if I want a trajectory of just water, I like to do it this way:\n",
    "## I already defined a water selection from the above code: water1 = sim1.top.select(\"water1\")\n",
    "##turns out this gives me all the indices I want, which is the input for the next function:\n",
    "water_traj1 = sim1.atom_slice(water1)\n",
    "print(water_traj1)\n",
    "##another way to get # water molecules:\n",
    "print(water_traj1.n_residues)\n",
    "##<mdtraj.Trajectory with 3698 frames, 21579 atoms, 7193 residues, and unitcells>"
   ]
  },
  {
   "cell_type": "markdown",
   "metadata": {},
   "source": [
    "Now you try!<p> 1. How many lipids are there? <p>2. How many of each lipid are there? <p>3.Can you create a trajectory of JUST lipids?"
   ]
  },
  {
   "cell_type": "code",
   "execution_count": null,
   "metadata": {
    "collapsed": true
   },
   "outputs": [],
   "source": [
    "##YOu will need to know what you're looking for.... so ... \n",
    "###here is function to get a list of residue NAMES\n",
    "###see if you can understand why it works\n",
    "#defining a function\n",
    "def getResidues(traj):#this function takes a trajectory as an input!\n",
    "    residues1 = []\n",
    "    for i in traj.top.residues:\n",
    "        check = 'false'\n",
    "        for j in residues1:\n",
    "            if i.name == j:\n",
    "                check = 'true' ##why do I use \"=\" instead of \"==\"?\n",
    "                break\n",
    "        if len(residues1) == 0:\n",
    "            residues1.append(i.name)\n",
    "        elif check == 'false': ##why do I use \"==\" instead of \"=\"? \n",
    "            residues1.append(i.name)\n",
    "    return residues1 #output\n",
    "##using the function\n",
    "getResidues(sim1)"
   ]
  },
  {
   "cell_type": "code",
   "execution_count": null,
   "metadata": {
    "collapsed": true
   },
   "outputs": [],
   "source": [
    "##How might I get total number of residues? \n",
    "palp_selection1 = sim1.top.select('resname PALP') #select \n",
    "palp_traj1 = sim1.atom_slice(palp_selection1) #cut new trajectory\n",
    "print(palp_traj.n_residues) #print number of residues"
   ]
  },
  {
   "cell_type": "code",
   "execution_count": null,
   "metadata": {
    "collapsed": true
   },
   "outputs": [],
   "source": [
    "#number of each lipid"
   ]
  },
  {
   "cell_type": "code",
   "execution_count": null,
   "metadata": {
    "collapsed": true
   },
   "outputs": [],
   "source": [
    "#total lipids"
   ]
  },
  {
   "cell_type": "code",
   "execution_count": null,
   "metadata": {
    "collapsed": true
   },
   "outputs": [],
   "source": [
    "#trajectory containing ALL lipids only "
   ]
  },
  {
   "cell_type": "markdown",
   "metadata": {},
   "source": [
    "## Read and write files in python"
   ]
  },
  {
   "cell_type": "markdown",
   "metadata": {},
   "source": [
    "We don't always have cute analysis modules like MDtraj to analyze our data for us, so we have to go straight to the source--our simulation ouptut files-- to get data. These are usually found in log files. In the same location as my dcd file, I will locate my log file and create a variable:"
   ]
  },
  {
   "cell_type": "code",
   "execution_count": null,
   "metadata": {
    "collapsed": true
   },
   "outputs": [],
   "source": [
    "logfile1 = filedir1+\"SA19/charmm-gui/namd/step7.1_production.log\""
   ]
  },
  {
   "cell_type": "markdown",
   "metadata": {},
   "source": [
    "Let's navigate to this logfile in terminal and open it to see what it looks like. "
   ]
  },
  {
   "cell_type": "markdown",
   "metadata": {},
   "source": [
    "    cd /gpfs/amarolab/abbyflabby/MIX/MIX1234_NaCl0.4/SA19/charmm-gui/namd/\n",
    "    vim step7.1_production.log\n",
    "<p> The top of the file should look something like:"
   ]
  },
  {
   "cell_type": "markdown",
   "metadata": {},
   "source": [
    "    Charm++: standalone mode (not using charmrun)\n",
    "    Converse/Charm++ Commit ID: v6.6.1-rc1-1-gba7c3c3-namd-charm-6.6.1-build-2014-Dec-08-28969\n",
    "    Warning> Randomization of stack pointer is turned on in kernel, thread migration may not work! Run 'echo 0 > /proc/sys/kernel/randomize_va_space' as root to disable it, or try run with '+isomalloc_sync'.\n",
    "    CharmLB> Load balancer assumes all CPUs are same."
   ]
  },
  {
   "cell_type": "markdown",
   "metadata": {},
   "source": [
    "<p>We need to practice using python to \"read\" this file, line by line, so we can eventually get it to extract the data we want. To do this, copy and paste the below lines into a new cell, where \"r\" designates we want to read the file: "
   ]
  },
  {
   "cell_type": "markdown",
   "metadata": {},
   "source": [
    "    log1 = open(logfile, \"r\")"
   ]
  },
  {
   "cell_type": "code",
   "execution_count": null,
   "metadata": {
    "collapsed": true
   },
   "outputs": [],
   "source": [
    "log1 = open(logfile1, \"r\")"
   ]
  },
  {
   "cell_type": "markdown",
   "metadata": {},
   "source": [
    "<p>So this creates a variable that is actually formatted like an array of lines in the file. So we can iterate over the array with a for loop: "
   ]
  },
  {
   "cell_type": "markdown",
   "metadata": {},
   "source": [
    "    for line in log1:\n",
    "         print(line)"
   ]
  },
  {
   "cell_type": "markdown",
   "metadata": {},
   "source": [
    "<p>The above code will print out EVERY SINGLE LINE in the file. You can run it if you want to, but it will take a while.. There are lots of lines. \n",
    "<p>So what do we want to do with this new skill? Well. We want to extract data that gets printed. In the log file, NAMD outputs the following in this format:"
   ]
  },
  {
   "cell_type": "markdown",
   "metadata": {},
   "source": [
    "    ETITLE:      TS           BOND          ANGLE          DIHED          IMPRP\n",
    "              ELECT            VDW       BOUNDARY           MISC        KINETIC\n",
    "              TOTAL           TEMP         TOTAL2         TOTAL3        TEMPAVG\n",
    "           PRESSURE      GPRESSURE         VOLUME       PRESSAVG      GPRESSAVG\n",
    "           \n",
    "    ENERGY:    2375      1625.1660      9744.4764      5148.3221       113.6684        -107154.1206       -75.2390         0.0000         0.0000     25827.5733         -64770.1534       296.1745    -90597.7267    -64580.2604       296.5764            137.4891       134.0194   1126319.9984        50.2003        50.1848\n",
    "\n",
    "    PRESSURE: 2500 29.0588 81.0596 62.4582 81.0593 19.6978 -67.639 62.4589 -67.6394 102.935\n",
    "    GPRESSURE: 2500 6.95917 74.8063 33.0297 50.6297 24.2815 -49.3801 51.3257 -21.8493 108.988\n",
    "    PRESSAVG: 2500 33.9646 -9.53635 8.45501 -9.53633 8.48039 -3.26265 8.45503 -3.26266 39.3728\n",
    "    GPRESSAVG: 2500 33.8341 -9.66428 8.75072 -9.05383 8.66055 -3.436 8.38506 -2.83566 39.2882\n",
    "    TIMING: 2500  CPU: 18.1282, 0.00707493/step  Wall: 18.2818, 0.00711786/step, 2.56986 hours remaining, 329.734375 MB of memory in use.                                                         "
   ]
  },
  {
   "cell_type": "markdown",
   "metadata": {},
   "source": [
    "Let's say I want to measure the pressure, GPRESSAVG, over the course of the entire simulation. I will want the timestep (TS) as well as the value for GPRESSAVG. My strategy is to create an array of x(time) values and an array of y(pressure) values, for simplicity. So, in pseudocode:"
   ]
  },
  {
   "cell_type": "markdown",
   "metadata": {},
   "source": [
    "    #initialize empty x, y arrays\n",
    "    #read each line in the file\n",
    "    #if the line starts with \"GPRESSAVG,\" we want to pay attention to this line\n",
    "    #otherwise, we don't care about the line\n",
    "    #Break the energy line into its individual numerical components using a python method...\n",
    "    #We want to extract the timestep (index 1) and the GPRESSAVG (index 2) into their respective arrays, then move to the next line!"
   ]
  },
  {
   "cell_type": "code",
   "execution_count": null,
   "metadata": {
    "collapsed": true
   },
   "outputs": [],
   "source": [
    "title = 'GPRESSAVG'\n",
    "#initialize empty x, y arrays\n",
    "gpress_x1 = []\n",
    "gpress_y1 = []\n",
    "#read each line in the file\n",
    "with open (logfile1, 'r') as log1:\n",
    "    for line in log1:\n",
    "        if line.startswith(title):\n",
    "            ##the first thing that gets printed here is 'GPRESSAVG'\n",
    "            ##the second thing is the timestep\n",
    "            ##the third thing is one of the values for the pressure tensor. We can just say this is the value I want.\n",
    "            #to append the timestep to the x array & the tensor value to the y array:\n",
    "            gpress_x1.append(float(line.split(\" \")[1]))##1 index is timestep. \n",
    "            gpress_y1.append(float(line.split(\" \")[2]))##2 index is the first tensor value\n",
    "            ##google what split does!\n",
    "print(gpress_x1)"
   ]
  },
  {
   "cell_type": "markdown",
   "metadata": {},
   "source": [
    "Now it's your turn to write a function that grabs some values from the log file(s) from your SA20.5 trajectories. You will be grabbing \"TOTAL3\" energies from the ENERGY list (shown above) (search the NAMD docs to figure out what TOTAL3 includes and what its units are!) as the y axis and timesteps as the x-axis. \n",
    "<p> As you can see from the NAMD output reproduced below, TOTAL3 is the 15th item in the line that starts with ETITLE, corresponding to the 15th item in the line that starts with ENERGY. Can you figure out how to write a function that extracts the 15th item in the line, as well as the timestep, TS, into two new arrays?"
   ]
  },
  {
   "cell_type": "markdown",
   "metadata": {},
   "source": [
    "    ETITLE:      TS           BOND          ANGLE          DIHED          IMPRP\n",
    "              ELECT            VDW       BOUNDARY           MISC        KINETIC\n",
    "              TOTAL           TEMP         TOTAL2         TOTAL3        TEMPAVG\n",
    "           PRESSURE      GPRESSURE         VOLUME       PRESSAVG      GPRESSAVG\n",
    "    \n",
    "    ENERGY:    1000         0.0000         0.0000         0.0000         0.0000\n",
    "        -97022.1848      9595.3175         0.0000         0.0000     14319.5268\n",
    "        -73107.3405       300.2464    -73076.6148    -73084.1411       297.7598\n",
    "          -626.5205      -636.6638    240716.1374      -616.5673      -616.6619"
   ]
  },
  {
   "cell_type": "code",
   "execution_count": null,
   "metadata": {
    "collapsed": true
   },
   "outputs": [],
   "source": [
    "##code here!\n",
    "##there MIGHT be multiple log files, start with the first one \n",
    "#and then you can write scripts to add the next log file to the array "
   ]
  },
  {
   "cell_type": "markdown",
   "metadata": {
    "collapsed": true
   },
   "source": [
    "## Using MATPLOTLIB for making graphs"
   ]
  },
  {
   "cell_type": "markdown",
   "metadata": {},
   "source": [
    "To analyze our new data that we've stored in arrays, it's useful to be able to plot it! I'll show you how to generate a scatter plot with your data.\n",
    "<p><i>Scatter Plot of GPRESSAVG with TIME"
   ]
  },
  {
   "cell_type": "code",
   "execution_count": null,
   "metadata": {
    "collapsed": true
   },
   "outputs": [],
   "source": [
    "fig = plt.figure()\n",
    "ax = fig.add_subplot(111)\n",
    "plt.scatter(gpress_x1, gpress_y1)"
   ]
  },
  {
   "cell_type": "markdown",
   "metadata": {
    "collapsed": true
   },
   "source": [
    "In the plot above, you can see that there are quite a lot of points, and in the x-axis, the numbers are so long that they run into each other. How can we fix that? Let's figure out what the largest number is in the x axis. This is the LAST item in the array OR we can use numpy (np) to find the max value of the array."
   ]
  },
  {
   "cell_type": "markdown",
   "metadata": {},
   "source": [
    "    #NUMPY\n",
    "    max_np = np.max(gpress_x1)\n",
    "    print max_np\n",
    "    \n",
    "    #last item in array:\n",
    "    max_arr = gpress_x1[-1]\n",
    "    print max_arr\n",
    "    \n",
    "    ##result is 3698500.0"
   ]
  },
  {
   "cell_type": "code",
   "execution_count": null,
   "metadata": {
    "collapsed": true
   },
   "outputs": [],
   "source": [
    "##your code here"
   ]
  },
  {
   "cell_type": "markdown",
   "metadata": {},
   "source": [
    "We can do a couple of things to fix this, but I suggest breaking it down into smaller numbers. Two ways. \n",
    "<p> One:The largest number is approximately 3.6 x 10^6. If we divide all numbers by 1,000,000 or 100,000 then each number will be smaller and the xaxis labels won't run into each other. We can then specify units in the x-axis title.\n",
    "<p>Two: change to nanoseconds by dividing by 500,000. We'll do this option."
   ]
  },
  {
   "cell_type": "code",
   "execution_count": null,
   "metadata": {
    "collapsed": true
   },
   "outputs": [],
   "source": [
    "new_x1 = np.array(gpress_x1)/500000\n",
    "##changed into a numpy array so we can do math on it like that\n",
    "print(new_x1)\n",
    "##Now the largest value is ~7.397"
   ]
  },
  {
   "cell_type": "code",
   "execution_count": null,
   "metadata": {
    "collapsed": true
   },
   "outputs": [],
   "source": [
    "fig = plt.figure()\n",
    "ax = fig.add_subplot(111)\n",
    "plt.scatter(new_x1, gpress_y1, marker='.', s=2)\n",
    "#I've added some extra stuff here like marker type and size to give you a hint on how to do this yourself\n",
    "plt.xlabel('time / ns')\n",
    "plt.ylabel('pressure / bar')\n",
    "plt.title('Average Pressure (measured per 2ps)')"
   ]
  },
  {
   "cell_type": "markdown",
   "metadata": {},
   "source": [
    "<i> Scatter plot of ENERGY vs time"
   ]
  },
  {
   "cell_type": "markdown",
   "metadata": {},
   "source": [
    "Now you get to try your hand at coding this. Here is your task:\n",
    "<p> 1. Plot your energy data the same way I've plotted this. #energy is given in kcal/mol"
   ]
  },
  {
   "cell_type": "code",
   "execution_count": null,
   "metadata": {
    "collapsed": true
   },
   "outputs": [],
   "source": []
  },
  {
   "cell_type": "markdown",
   "metadata": {},
   "source": [
    "<p>2. Make a NEW plot, except on this plot you will have THREE sets of data on the SAME plot, each with proper labels:"
   ]
  },
  {
   "cell_type": "markdown",
   "metadata": {},
   "source": [
    "    A. ENERGY (measured per 2 picoseconds) #remember that a data point is grabbed EVERY 2 PICOSECONDS\n",
    "    B. Energy averaged over every 0.01 ns, including error (standard deviation) bars\n",
    "    C. Energy averaged over every 0.1 ns, including error (standard deviation) bars"
   ]
  },
  {
   "cell_type": "code",
   "execution_count": null,
   "metadata": {
    "collapsed": true
   },
   "outputs": [],
   "source": []
  },
  {
   "cell_type": "code",
   "execution_count": null,
   "metadata": {
    "collapsed": true
   },
   "outputs": [],
   "source": []
  }
 ],
 "metadata": {
  "kernelspec": {
   "display_name": "Python 2",
   "language": "python",
   "name": "python2"
  },
  "language_info": {
   "codemirror_mode": {
    "name": "ipython",
    "version": 2
   },
   "file_extension": ".py",
   "mimetype": "text/x-python",
   "name": "python",
   "nbconvert_exporter": "python",
   "pygments_lexer": "ipython2",
   "version": "2.7.14"
  }
 },
 "nbformat": 4,
 "nbformat_minor": 2
}
